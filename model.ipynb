{
 "cells": [
  {
   "cell_type": "code",
   "execution_count": 1,
   "metadata": {},
   "outputs": [],
   "source": [
    "import pandas as pd\n",
    "from sklearn.feature_extraction.text import TfidfVectorizer\n",
    "from sklearn.metrics.pairwise import linear_kernel"
   ]
  },
  {
   "cell_type": "code",
   "execution_count": 2,
   "metadata": {},
   "outputs": [],
   "source": [
    "# Muat data film\n",
    "file_path = 'indonesian_movies.csv'  # Ganti dengan jalur ke file CSV Anda\n",
    "data = pd.read_csv(file_path)"
   ]
  },
  {
   "cell_type": "code",
   "execution_count": 3,
   "metadata": {},
   "outputs": [],
   "source": [
    "# Langkah 2: Pra-pemrosesan Data\n",
    "data['description'] = data['description'].fillna('')\n",
    "data['genre'] = data['genre'].str.lower()"
   ]
  },
  {
   "cell_type": "code",
   "execution_count": 4,
   "metadata": {},
   "outputs": [],
   "source": [
    "# Langkah 3: Menggunakan TF-IDF Vectorizer\n",
    "tfidf = TfidfVectorizer(stop_words='english')\n",
    "tfidf_matrix = tfidf.fit_transform(data['description'])"
   ]
  },
  {
   "cell_type": "code",
   "execution_count": 5,
   "metadata": {},
   "outputs": [],
   "source": [
    "# Langkah 4: Menghitung Kesamaan Kosinus\n",
    "cosine_sim = linear_kernel(tfidf_matrix, tfidf_matrix)"
   ]
  },
  {
   "cell_type": "code",
   "execution_count": 6,
   "metadata": {},
   "outputs": [],
   "source": [
    "# Langkah 5: Membuat Fungsi Rekomendasi\n",
    "def get_recommendations(genre_filter=None, age_rating=None, min_rating=None, year=None, cosine_sim=cosine_sim):\n",
    "    recommendations = data.copy()\n",
    "\n",
    "    # Mengisi nilai NaN terlebih dahulu\n",
    "    recommendations['genre'] = recommendations['genre'].fillna('')\n",
    "    recommendations['age_rating'] = recommendations['age_rating'].fillna('')\n",
    "    recommendations['users_rating'] = recommendations['users_rating'].fillna(0)\n",
    "    recommendations['year'] = recommendations['year'].fillna(0)\n",
    "\n",
    "    if genre_filter:\n",
    "        recommendations = recommendations[recommendations['genre'].str.contains(genre_filter.lower(), na=False)]\n",
    "\n",
    "    if age_rating is not None:\n",
    "        if age_rating == 'remaja':\n",
    "            recommendations = recommendations[recommendations['age_rating'] == '13+']\n",
    "        elif age_rating == 'dewasa':\n",
    "            recommendations = recommendations[recommendations['age_rating'] == '17+']\n",
    "\n",
    "    if min_rating:\n",
    "        recommendations = recommendations[recommendations['users_rating'] >= min_rating]\n",
    "\n",
    "    if year:\n",
    "        recommendations = recommendations[recommendations['year'] == year]\n",
    "\n",
    "    recommendations = recommendations.fillna('-')\n",
    "    recommendations = recommendations.sort_values(by='users_rating', ascending=False)\n",
    "\n",
    "    top_recommendation = recommendations.iloc[0].to_dict() if not recommendations.empty else None\n",
    "    other_recommendations = recommendations.iloc[1:].to_dict(orient='records') if len(recommendations) > 1 else []\n",
    "\n",
    "    return top_recommendation, other_recommendations"
   ]
  },
  {
   "cell_type": "code",
   "execution_count": 7,
   "metadata": {},
   "outputs": [
    {
     "name": "stdout",
     "output_type": "stream",
     "text": [
      "Top Recommendation:\n",
      "{'movie_id': 100010, 'title': 'Mariposa', 'year': 2020, 'description': 'Iqbal (Angga Yunanda) is like a Mariposa butterfly to Acha (Adhisty Zara). Each time someone approach, he always runs away. Acha is determined to win Iqbal, a man known to be handsome, smart, yet cold.', 'genre': 'drama', 'age_rating': '13+', 'users_rating': 8.5, 'votes': '54', 'languages': 'Indonesian', 'directors': 'Fajar Bustomi', 'actors': \"['Angga Yunanda', 'Adhisty Zara', 'Dannia Salsabila', 'Abun Sungkar', 'Junior Roberts', 'Syakir Daulay', 'Ariyo Wahab', 'Irgi Fahrezi', 'Ersa Mayori', 'Baim', 'Iszur Muchtar', 'Ruth Permatasari', 'Yudha Keling', 'Diaz Danar', 'Aris Nugraha']\", 'runtime': '117 min'}\n",
      "\n",
      "Other Recommendations:\n",
      "{'movie_id': 100013, 'title': 'Nanti Kita Cerita Tentang Hari Ini', 'year': 2020, 'description': 'Three siblings live in happy-looking families, but one of them had changed and got warned by his parents. This prompted the rebellion of the three siblings which led to the discovery of the secrets and great trauma in their families.', 'genre': 'drama', 'age_rating': '13+', 'users_rating': 7.5, 'votes': '678', 'languages': 'Indonesian', 'directors': 'Angga Dwimas Sasongko', 'actors': \"['Rio Dewanto', 'Sheila Dara Aisha', 'Rachel Amanda', 'Sinyo Riza', 'Nayla D. Purnama', 'Alleyra Fakhira', 'M. Adhiyat', 'Syaqila Afiffah Putri', 'Donny Damara', 'Susan Bachtiar', 'Oka Antara', 'Niken Anjani', 'Agla Artalidia', 'Ardhito Pramono', 'Sivia Azizah']\", 'runtime': '121 min'}\n",
      "{'movie_id': 100016, 'title': 'Si Doel the Movie 3', 'year': 2020, 'description': \"The return of Sarah with his son, Dul, to Jakarta, welcomed happily by the Doel's family. But it also makes Zaenab, Sarah, and Doel confronted with decisive choice.\", 'genre': 'drama', 'age_rating': '13+', 'users_rating': 7.2, 'votes': '82', 'languages': 'Indonesian', 'directors': 'Rano Karno', 'actors': \"['Rano Karno', 'Maudy Koesnaedi', 'Cornelia Agatha', 'Mandra', 'Suti Karno', 'Rey Bong', 'Aminah Cendrakasih', 'Ahmad Zulhoir Mardia', 'Salman Alfarizi', 'Opie Kumis', 'Ranty Purnamasari', 'Sabar', 'Maryati Tohir', 'Hj. Tonah', 'Wizzy']\", 'runtime': '93 min'}\n"
     ]
    }
   ],
   "source": [
    "# Langkah 6: Menguji Fungsi Rekomendasi\n",
    "# Misalnya, kita ingin rekomendasi film dengan genre 'drama' untuk penonton remaja, dengan rating minimum 7.0, dari tahun 2020\n",
    "genre = 'drama'\n",
    "age_rating = 'remaja'\n",
    "min_rating = 7.0\n",
    "year = 2020\n",
    "\n",
    "top_recommendation, other_recommendations = get_recommendations(genre_filter=genre, age_rating=age_rating, min_rating=min_rating, year=year)\n",
    "\n",
    "print(\"Top Recommendation:\")\n",
    "print(top_recommendation)\n",
    "\n",
    "print(\"\\nOther Recommendations:\")\n",
    "for rec in other_recommendations:\n",
    "    print(rec)"
   ]
  }
 ],
 "metadata": {
  "kernelspec": {
   "display_name": "Python 3",
   "language": "python",
   "name": "python3"
  },
  "language_info": {
   "codemirror_mode": {
    "name": "ipython",
    "version": 3
   },
   "file_extension": ".py",
   "mimetype": "text/x-python",
   "name": "python",
   "nbconvert_exporter": "python",
   "pygments_lexer": "ipython3",
   "version": "3.12.3"
  }
 },
 "nbformat": 4,
 "nbformat_minor": 2
}
